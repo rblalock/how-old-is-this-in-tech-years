{
  "nbformat": 4,
  "nbformat_minor": 0,
  "metadata": {
    "colab": {
      "name": "in-tech-years.ipynb",
      "provenance": []
    },
    "kernelspec": {
      "name": "python3",
      "display_name": "Python 3"
    },
    "language_info": {
      "name": "python"
    }
  },
  "cells": [
    {
      "cell_type": "code",
      "metadata": {
        "id": "u11xcBFrpJO9"
      },
      "source": [
        "import numpy as np\n",
        "from datetime import datetime\n",
        "\n",
        "# The year when the event happened\n",
        "year = 2010\n",
        "\n",
        "# A pseudo-scientific magic multiplier that should\n",
        "# be greater than one. The larger this value is,\n",
        "# the more pronounce the difference in years will be.\n",
        "multiplier = 3"
      ],
      "execution_count": null,
      "outputs": []
    },
    {
      "cell_type": "code",
      "metadata": {
        "id": "OzLULXnHpLbh"
      },
      "source": [
        "m = np.log(2)\n",
        "c = np.log(1)\n",
        "\n",
        "X = datetime.now().year - year\n",
        "\n",
        "Y = m * X + c\n",
        "how_many_years = Y * multiplier"
      ],
      "execution_count": null,
      "outputs": []
    },
    {
      "cell_type": "code",
      "metadata": {
        "colab": {
          "base_uri": "https://localhost:8080/"
        },
        "id": "A7clIaappWd2",
        "outputId": "3732a266-c315-48cb-a329-c6fef7efb2ea"
      },
      "source": [
        "print(f\"This happened {int(how_many_years)} years ago\")"
      ],
      "execution_count": null,
      "outputs": [
        {
          "output_type": "stream",
          "text": [
            "This happened 22 years ago\n"
          ],
          "name": "stdout"
        }
      ]
    },
    {
      "cell_type": "code",
      "metadata": {
        "id": "1z-Hc2jVrt90"
      },
      "source": [
        ""
      ],
      "execution_count": null,
      "outputs": []
    }
  ]
}